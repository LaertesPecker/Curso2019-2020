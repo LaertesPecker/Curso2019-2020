{
  "nbformat": 4,
  "nbformat_minor": 0,
  "metadata": {
    "colab": {
      "name": "ClasificadorBayesiano.ipynb",
      "provenance": [],
      "collapsed_sections": [],
      "include_colab_link": true
    },
    "kernelspec": {
      "name": "python3",
      "display_name": "Python 3"
    }
  },
  "cells": [
    {
      "cell_type": "markdown",
      "metadata": {
        "id": "view-in-github",
        "colab_type": "text"
      },
      "source": [
        "<a href=\"https://colab.research.google.com/github/LaertesPecker/Curso2019-2020/blob/master/ClasificadorBayesiano.ipynb\" target=\"_parent\"><img src=\"https://colab.research.google.com/assets/colab-badge.svg\" alt=\"Open In Colab\"/></a>"
      ]
    },
    {
      "cell_type": "markdown",
      "metadata": {
        "id": "Rb4VhO_ge7AL",
        "colab_type": "text"
      },
      "source": [
        "# Clasificador Gausiano"
      ]
    },
    {
      "cell_type": "markdown",
      "metadata": {
        "id": "3qHor0ZEfCDu",
        "colab_type": "text"
      },
      "source": [
        "Importamos y cargamos los datos"
      ]
    },
    {
      "cell_type": "code",
      "metadata": {
        "id": "d2rPhIK0cj9n",
        "colab_type": "code",
        "colab": {}
      },
      "source": [
        "from sklearn.datasets import  load_iris\n",
        "import numpy as np\n",
        "import seaborn as sns \n",
        "X, y =  load_iris(return_X_y=True)"
      ],
      "execution_count": 0,
      "outputs": []
    },
    {
      "cell_type": "markdown",
      "metadata": {
        "id": "8rvrY3DZfdaE",
        "colab_type": "text"
      },
      "source": [
        "Sacamos la probabilidad a priori"
      ]
    },
    {
      "cell_type": "code",
      "metadata": {
        "id": "l2EWu81Nc1zj",
        "colab_type": "code",
        "colab": {}
      },
      "source": [
        "unique, counts = np.unique(y,return_counts=True)"
      ],
      "execution_count": 0,
      "outputs": []
    },
    {
      "cell_type": "code",
      "metadata": {
        "id": "b8BTttqef22A",
        "colab_type": "code",
        "colab": {}
      },
      "source": [
        "prob_priori = np.divide(counts,y.sum()) # Calculamos el de la clase en total? sin separar características? "
      ],
      "execution_count": 0,
      "outputs": []
    },
    {
      "cell_type": "code",
      "metadata": {
        "id": "V7pp8884g7iw",
        "colab_type": "code",
        "colab": {}
      },
      "source": [
        "ln_priori = np.log(prob_priori)"
      ],
      "execution_count": 0,
      "outputs": []
    },
    {
      "cell_type": "markdown",
      "metadata": {
        "id": "jDi4AShShNcf",
        "colab_type": "text"
      },
      "source": [
        "Calculamos la media de cada clase de sus características"
      ]
    },
    {
      "cell_type": "code",
      "metadata": {
        "id": "RnpaQspckdJ9",
        "colab_type": "code",
        "colab": {}
      },
      "source": [
        "media = np.array([np.mean(X[y==l],axis=0) for l in np.unique(y)]) "
      ],
      "execution_count": 0,
      "outputs": []
    },
    {
      "cell_type": "code",
      "metadata": {
        "id": "lt9VMvccEi_N",
        "colab_type": "code",
        "outputId": "ddc83a2c-419d-4e2c-bce9-fcde24845074",
        "colab": {
          "base_uri": "https://localhost:8080/",
          "height": 35
        }
      },
      "source": [
        "np.shape(media)"
      ],
      "execution_count": 0,
      "outputs": [
        {
          "output_type": "execute_result",
          "data": {
            "text/plain": [
              "(3, 4)"
            ]
          },
          "metadata": {
            "tags": []
          },
          "execution_count": 353
        }
      ]
    },
    {
      "cell_type": "markdown",
      "metadata": {
        "id": "YuB9H0WZhx67",
        "colab_type": "text"
      },
      "source": [
        "Calculamos la matriz de covarianzas por clase y característica"
      ]
    },
    {
      "cell_type": "code",
      "metadata": {
        "id": "xVmW47vzmKk_",
        "colab_type": "code",
        "colab": {}
      },
      "source": [
        "cov = np.array([np.cov(X[y==l] - media[l], rowvar=False) for l in np.unique(y)])"
      ],
      "execution_count": 0,
      "outputs": []
    },
    {
      "cell_type": "code",
      "metadata": {
        "id": "_jc3ZOIDE2me",
        "colab_type": "code",
        "outputId": "6e40e0ec-430d-432b-cf51-137f7f70671c",
        "colab": {
          "base_uri": "https://localhost:8080/",
          "height": 35
        }
      },
      "source": [
        "np.shape(cov)"
      ],
      "execution_count": 0,
      "outputs": [
        {
          "output_type": "execute_result",
          "data": {
            "text/plain": [
              "(3, 4, 4)"
            ]
          },
          "metadata": {
            "tags": []
          },
          "execution_count": 355
        }
      ]
    },
    {
      "cell_type": "markdown",
      "metadata": {
        "id": "bhqtksqdmqex",
        "colab_type": "text"
      },
      "source": [
        "Calculamos determinante de cada clase y la inversa del determinante"
      ]
    },
    {
      "cell_type": "code",
      "metadata": {
        "id": "Ot-uPJOrle8W",
        "colab_type": "code",
        "colab": {}
      },
      "source": [
        "det = np.array(np.linalg.det(cov)) # Determinante por cada clase?\n"
      ],
      "execution_count": 0,
      "outputs": []
    },
    {
      "cell_type": "code",
      "metadata": {
        "colab_type": "code",
        "outputId": "76c63c40-4eba-4267-fc20-28b924351d9c",
        "id": "bd1rjgMOUNhg",
        "colab": {
          "base_uri": "https://localhost:8080/",
          "height": 35
        }
      },
      "source": [
        "len(unique)"
      ],
      "execution_count": 0,
      "outputs": [
        {
          "output_type": "execute_result",
          "data": {
            "text/plain": [
              "3"
            ]
          },
          "metadata": {
            "tags": []
          },
          "execution_count": 357
        }
      ]
    },
    {
      "cell_type": "code",
      "metadata": {
        "id": "5hnLsEQAuvyO",
        "colab_type": "code",
        "colab": {}
      },
      "source": [
        "inv = [np.linalg.inv(cov[x]) for x in range(0,len(unique))]"
      ],
      "execution_count": 0,
      "outputs": []
    },
    {
      "cell_type": "code",
      "metadata": {
        "id": "JVLDJHJ24odJ",
        "colab_type": "code",
        "outputId": "63f2a608-1f68-4c08-e33d-18fd31be6b35",
        "colab": {
          "base_uri": "https://localhost:8080/",
          "height": 35
        }
      },
      "source": [
        "np.shape(inv)"
      ],
      "execution_count": 0,
      "outputs": [
        {
          "output_type": "execute_result",
          "data": {
            "text/plain": [
              "(3, 4, 4)"
            ]
          },
          "metadata": {
            "tags": []
          },
          "execution_count": 359
        }
      ]
    },
    {
      "cell_type": "markdown",
      "metadata": {
        "id": "zpcQq8deoCoX",
        "colab_type": "text"
      },
      "source": [
        "Calculamos la resta de la X con sus medias (Hasta aquí diría que está todo bien)\n",
        "\n"
      ]
    },
    {
      "cell_type": "code",
      "metadata": {
        "id": "0N-I-7odm0pp",
        "colab_type": "code",
        "colab": {}
      },
      "source": [
        "mean_x0 = np.array(X - media[:,np.newaxis])"
      ],
      "execution_count": 0,
      "outputs": []
    },
    {
      "cell_type": "code",
      "metadata": {
        "id": "ahMgqeUGqqp0",
        "colab_type": "code",
        "colab": {}
      },
      "source": [
        "j=0\n",
        "result = np.empty((3,np.shape(X)[0]))\n",
        "for row in mean_x0:\n",
        "  mult = row.dot(np.linalg.inv(cov[j]))\n",
        "  mult = (mult*row).sum(1)\n",
        "  mult = mult/-2\n",
        "  result[j] = -0.5*np.log(det[j]) + mult + ln_priori[j]\n",
        "  np.vstack(result)\n",
        "  j+=1"
      ],
      "execution_count": 0,
      "outputs": []
    },
    {
      "cell_type": "code",
      "metadata": {
        "id": "ULTFoY7r7vps",
        "colab_type": "code",
        "colab": {}
      },
      "source": [
        "pred = np.argmax(result,axis=0)"
      ],
      "execution_count": 0,
      "outputs": []
    },
    {
      "cell_type": "code",
      "metadata": {
        "id": "YVkqPizm7C78",
        "colab_type": "code",
        "outputId": "98d6d695-0883-4567-9ae7-2ae948d94910",
        "colab": {
          "base_uri": "https://localhost:8080/",
          "height": 35
        }
      },
      "source": [
        "num_aciertos = (pred == y).sum()\n",
        "media_aciertos = (pred == y).mean()*100\n",
        "print(f\"Numero de Aciertos es: {num_aciertos}, Porcentaje de aciertos: {media_aciertos}\")"
      ],
      "execution_count": 0,
      "outputs": [
        {
          "output_type": "stream",
          "text": [
            "Numero de Aciertos es: 147, Porcentaje de aciertos: 98.0\n"
          ],
          "name": "stdout"
        }
      ]
    }
  ]
}